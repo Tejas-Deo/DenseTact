{
 "cells": [
  {
   "cell_type": "markdown",
   "id": "6567b6e1",
   "metadata": {},
   "source": [
    "# OBJECTIVE\n",
    "\n",
    "\n",
    "pixel values for depth images config: 255 --> white pixels, 0 --> dark pixel values\n",
    "\n",
    "for color images: pixel values (255, 255, 255) is white and pixel value (0, 0, 0) is black\n",
    "\n",
    "Objective: Extract the index values of the dark pixels (0, 0, 0) from the RGB image and apply it onto the depth image\n"
   ]
  },
  {
   "cell_type": "code",
   "execution_count": 5,
   "id": "781d2a35",
   "metadata": {},
   "outputs": [],
   "source": [
    "def mask_python_images(abs_path, color_img_fps, target_fp):\n",
    "    \n",
    "    \n",
    "    for path in color_img_fps:\n",
    "        # to extract and assign the filepaths\n",
    "        color_img_path = path\n",
    "        filename = color_img_path[len(abs_path) + 1:]\n",
    "        depth_img_path = os.path.join(abs_path, \"FINAL_CUBE_TOUCH_IMAGES\", filename)\n",
    "        target_img_path = os.path.join(abs_path, \"FINAL_CUBE_TOUCH_IMAGES\", \"Masked Depth Images\", filename)\n",
    "        \n",
    "        # to load the images\n",
    "        color_img = cv2.imread(color_img_path, -1) # importing as color image\n",
    "        depth_img = cv2.imread(depth_img_path, 0) # importing as grayscale image\n",
    "\n",
    "        '''\n",
    "        to find out the black pixel indices in the color image\n",
    "        '''\n",
    "        idx_values = []\n",
    "        corresponding_pixel_values = []\n",
    "        img_shape = color_img.shape\n",
    "        width = img_shape[0]\n",
    "        height = img_shape[1]\n",
    "\n",
    "        for w_idx in tqdm(range(width)):  #to iterate through the rows of the image\n",
    "            for h_idx in range(height):  # to iterate through the coluns of the image\n",
    "                pixel_values = color_img[w_idx, h_idx]\n",
    "                if (pixel_values[0] == 0) and (pixel_values[1] == 0) and (pixel_values[2] == 0) and (pixel_values[3] == 255): \n",
    "                    idx_values.append([w_idx, h_idx])\n",
    "                    corresponding_pixel_values.append(pixel_values)\n",
    "                else:\n",
    "                    continue;\n",
    "        \n",
    "        '''\n",
    "        to modify the depth images and save them to the target file location\n",
    "        '''\n",
    "        for i in idx_values:\n",
    "            x = i[0]\n",
    "            y = i[1]\n",
    "            depth_img[x, y] = 0  # to transform the background of the image as needed\n",
    "\n",
    "        cv2.imwrite(target_img_path, depth_img)\n",
    "        print(\"Filename {} has been modified....\".format(filename))"
   ]
  },
  {
   "cell_type": "code",
   "execution_count": 6,
   "id": "92957ff3",
   "metadata": {},
   "outputs": [
    {
     "name": "stderr",
     "output_type": "stream",
     "text": [
      "100%|███████████████████████████████████████████████████████████████████████████████| 512/512 [00:01<00:00, 464.41it/s]\n"
     ]
    },
    {
     "name": "stdout",
     "output_type": "stream",
     "text": [
      "Filename vr_0.png has been modified....\n"
     ]
    },
    {
     "name": "stderr",
     "output_type": "stream",
     "text": [
      "100%|███████████████████████████████████████████████████████████████████████████████| 512/512 [00:01<00:00, 443.36it/s]\n"
     ]
    },
    {
     "name": "stdout",
     "output_type": "stream",
     "text": [
      "Filename vr_1.png has been modified....\n"
     ]
    },
    {
     "name": "stderr",
     "output_type": "stream",
     "text": [
      "100%|███████████████████████████████████████████████████████████████████████████████| 512/512 [00:00<00:00, 641.42it/s]\n"
     ]
    },
    {
     "name": "stdout",
     "output_type": "stream",
     "text": [
      "Filename vr_10.png has been modified....\n"
     ]
    },
    {
     "name": "stderr",
     "output_type": "stream",
     "text": [
      "100%|███████████████████████████████████████████████████████████████████████████████| 512/512 [00:01<00:00, 436.28it/s]\n"
     ]
    },
    {
     "name": "stdout",
     "output_type": "stream",
     "text": [
      "Filename vr_11.png has been modified....\n"
     ]
    },
    {
     "name": "stderr",
     "output_type": "stream",
     "text": [
      "100%|███████████████████████████████████████████████████████████████████████████████| 512/512 [00:01<00:00, 435.81it/s]\n"
     ]
    },
    {
     "name": "stdout",
     "output_type": "stream",
     "text": [
      "Filename vr_12.png has been modified....\n"
     ]
    },
    {
     "name": "stderr",
     "output_type": "stream",
     "text": [
      "100%|███████████████████████████████████████████████████████████████████████████████| 512/512 [00:01<00:00, 476.36it/s]\n"
     ]
    },
    {
     "name": "stdout",
     "output_type": "stream",
     "text": [
      "Filename vr_13.png has been modified....\n"
     ]
    },
    {
     "name": "stderr",
     "output_type": "stream",
     "text": [
      "100%|███████████████████████████████████████████████████████████████████████████████| 512/512 [00:01<00:00, 494.32it/s]\n"
     ]
    },
    {
     "name": "stdout",
     "output_type": "stream",
     "text": [
      "Filename vr_14.png has been modified....\n"
     ]
    },
    {
     "name": "stderr",
     "output_type": "stream",
     "text": [
      "100%|███████████████████████████████████████████████████████████████████████████████| 512/512 [00:00<00:00, 529.97it/s]\n"
     ]
    },
    {
     "name": "stdout",
     "output_type": "stream",
     "text": [
      "Filename vr_15.png has been modified....\n"
     ]
    },
    {
     "name": "stderr",
     "output_type": "stream",
     "text": [
      "100%|███████████████████████████████████████████████████████████████████████████████| 512/512 [00:00<00:00, 545.38it/s]\n"
     ]
    },
    {
     "name": "stdout",
     "output_type": "stream",
     "text": [
      "Filename vr_16.png has been modified....\n"
     ]
    },
    {
     "name": "stderr",
     "output_type": "stream",
     "text": [
      "100%|███████████████████████████████████████████████████████████████████████████████| 512/512 [00:00<00:00, 701.33it/s]\n"
     ]
    },
    {
     "name": "stdout",
     "output_type": "stream",
     "text": [
      "Filename vr_17.png has been modified....\n"
     ]
    },
    {
     "name": "stderr",
     "output_type": "stream",
     "text": [
      "100%|███████████████████████████████████████████████████████████████████████████████| 512/512 [00:01<00:00, 436.14it/s]\n"
     ]
    },
    {
     "name": "stdout",
     "output_type": "stream",
     "text": [
      "Filename vr_18.png has been modified....\n"
     ]
    },
    {
     "name": "stderr",
     "output_type": "stream",
     "text": [
      "100%|███████████████████████████████████████████████████████████████████████████████| 512/512 [00:00<00:00, 530.90it/s]\n"
     ]
    },
    {
     "name": "stdout",
     "output_type": "stream",
     "text": [
      "Filename vr_19.png has been modified....\n"
     ]
    },
    {
     "name": "stderr",
     "output_type": "stream",
     "text": [
      "100%|███████████████████████████████████████████████████████████████████████████████| 512/512 [00:01<00:00, 397.03it/s]\n"
     ]
    },
    {
     "name": "stdout",
     "output_type": "stream",
     "text": [
      "Filename vr_2.png has been modified....\n"
     ]
    },
    {
     "name": "stderr",
     "output_type": "stream",
     "text": [
      "100%|███████████████████████████████████████████████████████████████████████████████| 512/512 [00:00<00:00, 600.49it/s]\n"
     ]
    },
    {
     "name": "stdout",
     "output_type": "stream",
     "text": [
      "Filename vr_20.png has been modified....\n"
     ]
    },
    {
     "name": "stderr",
     "output_type": "stream",
     "text": [
      "100%|███████████████████████████████████████████████████████████████████████████████| 512/512 [00:01<00:00, 430.88it/s]\n"
     ]
    },
    {
     "name": "stdout",
     "output_type": "stream",
     "text": [
      "Filename vr_21.png has been modified....\n"
     ]
    },
    {
     "name": "stderr",
     "output_type": "stream",
     "text": [
      "100%|███████████████████████████████████████████████████████████████████████████████| 512/512 [00:00<00:00, 564.82it/s]\n"
     ]
    },
    {
     "name": "stdout",
     "output_type": "stream",
     "text": [
      "Filename vr_22.png has been modified....\n"
     ]
    },
    {
     "name": "stderr",
     "output_type": "stream",
     "text": [
      "100%|███████████████████████████████████████████████████████████████████████████████| 512/512 [00:01<00:00, 356.05it/s]\n"
     ]
    },
    {
     "name": "stdout",
     "output_type": "stream",
     "text": [
      "Filename vr_23.png has been modified....\n"
     ]
    },
    {
     "name": "stderr",
     "output_type": "stream",
     "text": [
      "100%|███████████████████████████████████████████████████████████████████████████████| 512/512 [00:01<00:00, 469.61it/s]\n"
     ]
    },
    {
     "name": "stdout",
     "output_type": "stream",
     "text": [
      "Filename vr_24.png has been modified....\n"
     ]
    },
    {
     "name": "stderr",
     "output_type": "stream",
     "text": [
      "100%|███████████████████████████████████████████████████████████████████████████████| 512/512 [00:00<00:00, 558.21it/s]\n"
     ]
    },
    {
     "name": "stdout",
     "output_type": "stream",
     "text": [
      "Filename vr_25.png has been modified....\n"
     ]
    },
    {
     "name": "stderr",
     "output_type": "stream",
     "text": [
      "100%|███████████████████████████████████████████████████████████████████████████████| 512/512 [00:01<00:00, 378.97it/s]\n"
     ]
    },
    {
     "name": "stdout",
     "output_type": "stream",
     "text": [
      "Filename vr_3.png has been modified....\n"
     ]
    },
    {
     "name": "stderr",
     "output_type": "stream",
     "text": [
      "100%|███████████████████████████████████████████████████████████████████████████████| 512/512 [00:01<00:00, 376.71it/s]\n"
     ]
    },
    {
     "name": "stdout",
     "output_type": "stream",
     "text": [
      "Filename vr_4.png has been modified....\n"
     ]
    },
    {
     "name": "stderr",
     "output_type": "stream",
     "text": [
      "100%|███████████████████████████████████████████████████████████████████████████████| 512/512 [00:01<00:00, 392.87it/s]\n"
     ]
    },
    {
     "name": "stdout",
     "output_type": "stream",
     "text": [
      "Filename vr_5.png has been modified....\n"
     ]
    },
    {
     "name": "stderr",
     "output_type": "stream",
     "text": [
      "100%|███████████████████████████████████████████████████████████████████████████████| 512/512 [00:01<00:00, 403.15it/s]\n"
     ]
    },
    {
     "name": "stdout",
     "output_type": "stream",
     "text": [
      "Filename vr_6.png has been modified....\n"
     ]
    },
    {
     "name": "stderr",
     "output_type": "stream",
     "text": [
      "100%|███████████████████████████████████████████████████████████████████████████████| 512/512 [00:00<00:00, 514.84it/s]\n"
     ]
    },
    {
     "name": "stdout",
     "output_type": "stream",
     "text": [
      "Filename vr_7.png has been modified....\n"
     ]
    },
    {
     "name": "stderr",
     "output_type": "stream",
     "text": [
      "100%|███████████████████████████████████████████████████████████████████████████████| 512/512 [00:01<00:00, 373.03it/s]\n"
     ]
    },
    {
     "name": "stdout",
     "output_type": "stream",
     "text": [
      "Filename vr_8.png has been modified....\n"
     ]
    },
    {
     "name": "stderr",
     "output_type": "stream",
     "text": [
      "100%|███████████████████████████████████████████████████████████████████████████████| 512/512 [00:01<00:00, 460.97it/s]"
     ]
    },
    {
     "name": "stdout",
     "output_type": "stream",
     "text": [
      "Filename vr_9.png has been modified....\n"
     ]
    },
    {
     "name": "stderr",
     "output_type": "stream",
     "text": [
      "\n"
     ]
    }
   ],
   "source": [
    "import cv2\n",
    "import numpy as np\n",
    "import pandas as pd\n",
    "import matplotlib.pyplot as plt\n",
    "from PIL import Image\n",
    "from tqdm import tqdm\n",
    "import os\n",
    "import glob\n",
    "from os import path\n",
    "\n",
    "# main directory\n",
    "abs_path = r'C:\\Users\\hp\\AI\\Stanford\\ARMLab\\NeRF_By_Touch\\Blender\\ARMLab Code - Tejas\\Compositing\\Final Cube Compositing\\FINAL_CUBE_TOUCH_IMAGES'\n",
    "path_len = len(abs_path)\n",
    "\n",
    "color_img_path = r'C:\\Users\\hp\\AI\\Stanford\\ARMLab\\NeRF_By_Touch\\Blender\\ARMLab Code - Tejas\\Compositing\\Final Cube Compositing\\FINAL_CUBE_TOUCH_IMAGES'\n",
    "target_fp = r'C:\\Users\\hp\\AI\\Stanford\\ARMLab\\NeRF_By_Touch\\Blender\\ARMLab Code - Tejas\\Compositing\\Final Cube Compositing\\FINAL_CUBE_TOUCH_IMAGES\\FINAL_CUBE_TOUCH_IMAGES\\Masked Depth Images'\n",
    "\n",
    "color_img_fps = []\n",
    "depth_img_fps = []\n",
    "\n",
    "for filename in glob.glob(os.path.join(color_img_path, '*.png')):\n",
    "    color_img_fps.append(filename)\n",
    "\n",
    "    \n",
    "\n",
    "mask_python_images(abs_path, color_img_fps, target_fp)"
   ]
  },
  {
   "cell_type": "code",
   "execution_count": null,
   "id": "6b05e7d7",
   "metadata": {},
   "outputs": [],
   "source": []
  },
  {
   "cell_type": "code",
   "execution_count": null,
   "id": "4c3d9b78",
   "metadata": {},
   "outputs": [],
   "source": []
  },
  {
   "cell_type": "code",
   "execution_count": null,
   "id": "715014c9",
   "metadata": {},
   "outputs": [],
   "source": []
  },
  {
   "cell_type": "code",
   "execution_count": null,
   "id": "f8436157",
   "metadata": {},
   "outputs": [],
   "source": []
  },
  {
   "cell_type": "code",
   "execution_count": null,
   "id": "1f5fecb7",
   "metadata": {},
   "outputs": [],
   "source": []
  },
  {
   "cell_type": "code",
   "execution_count": null,
   "id": "56efec7f",
   "metadata": {},
   "outputs": [],
   "source": []
  },
  {
   "cell_type": "code",
   "execution_count": null,
   "id": "5cd85b4e",
   "metadata": {},
   "outputs": [],
   "source": []
  }
 ],
 "metadata": {
  "kernelspec": {
   "display_name": "Python 3 (ipykernel)",
   "language": "python",
   "name": "python3"
  },
  "language_info": {
   "codemirror_mode": {
    "name": "ipython",
    "version": 3
   },
   "file_extension": ".py",
   "mimetype": "text/x-python",
   "name": "python",
   "nbconvert_exporter": "python",
   "pygments_lexer": "ipython3",
   "version": "3.9.12"
  }
 },
 "nbformat": 4,
 "nbformat_minor": 5
}
